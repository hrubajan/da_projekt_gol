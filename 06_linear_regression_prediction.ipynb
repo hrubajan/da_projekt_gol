{
 "cells": [
  {
   "cell_type": "markdown",
   "metadata": {},
   "source": [
    "# **Linear regression**"
   ]
  },
  {
   "cell_type": "code",
   "execution_count": 42,
   "metadata": {},
   "outputs": [],
   "source": [
    "data_for_regression = full_week[['DAY_OF_WEEK','DELAY','ORIGIN_TIMESTAMP','SEQUENCE']]"
   ]
  },
  {
   "cell_type": "code",
   "execution_count": 43,
   "metadata": {},
   "outputs": [],
   "source": [
    "timestamp = pd.to_datetime(data_for_regression['ORIGIN_TIMESTAMP'].astype(str))\n",
    "seconds = timestamp.dt.second\n",
    "minutes = timestamp.dt.minute\n",
    "hours = timestamp.dt.hour\n",
    "\n",
    "timestamp_seconds = seconds + minutes * 60 + hours * 60 * 60\n",
    "data_for_regression[\"TIMESTAMP_SECONDS\"] = timestamp_seconds\n",
    "data_for_regression.drop(columns=[\"ORIGIN_TIMESTAMP\",], inplace=True)"
   ]
  },
  {
   "cell_type": "code",
   "execution_count": 44,
   "metadata": {
    "scrolled": false
   },
   "outputs": [
    {
     "data": {
      "text/html": [
       "<div>\n",
       "<style scoped>\n",
       "    .dataframe tbody tr th:only-of-type {\n",
       "        vertical-align: middle;\n",
       "    }\n",
       "\n",
       "    .dataframe tbody tr th {\n",
       "        vertical-align: top;\n",
       "    }\n",
       "\n",
       "    .dataframe thead th {\n",
       "        text-align: right;\n",
       "    }\n",
       "</style>\n",
       "<table border=\"1\" class=\"dataframe\">\n",
       "  <thead>\n",
       "    <tr style=\"text-align: right;\">\n",
       "      <th></th>\n",
       "      <th>DAY_OF_WEEK</th>\n",
       "      <th>DELAY</th>\n",
       "      <th>SEQUENCE</th>\n",
       "      <th>TIMESTAMP_SECONDS</th>\n",
       "    </tr>\n",
       "  </thead>\n",
       "  <tbody>\n",
       "    <tr>\n",
       "      <th>2100</th>\n",
       "      <td>Tuesday</td>\n",
       "      <td>0.0</td>\n",
       "      <td>1</td>\n",
       "      <td>27896</td>\n",
       "    </tr>\n",
       "    <tr>\n",
       "      <th>2101</th>\n",
       "      <td>Tuesday</td>\n",
       "      <td>66.0</td>\n",
       "      <td>2</td>\n",
       "      <td>28080</td>\n",
       "    </tr>\n",
       "    <tr>\n",
       "      <th>2102</th>\n",
       "      <td>Tuesday</td>\n",
       "      <td>19.0</td>\n",
       "      <td>3</td>\n",
       "      <td>28281</td>\n",
       "    </tr>\n",
       "    <tr>\n",
       "      <th>2103</th>\n",
       "      <td>Tuesday</td>\n",
       "      <td>17.0</td>\n",
       "      <td>4</td>\n",
       "      <td>28347</td>\n",
       "    </tr>\n",
       "    <tr>\n",
       "      <th>2104</th>\n",
       "      <td>Tuesday</td>\n",
       "      <td>-21.0</td>\n",
       "      <td>5</td>\n",
       "      <td>28375</td>\n",
       "    </tr>\n",
       "    <tr>\n",
       "      <th>...</th>\n",
       "      <td>...</td>\n",
       "      <td>...</td>\n",
       "      <td>...</td>\n",
       "      <td>...</td>\n",
       "    </tr>\n",
       "    <tr>\n",
       "      <th>5711</th>\n",
       "      <td>Sunday</td>\n",
       "      <td>5.0</td>\n",
       "      <td>12</td>\n",
       "      <td>31568</td>\n",
       "    </tr>\n",
       "    <tr>\n",
       "      <th>5712</th>\n",
       "      <td>Sunday</td>\n",
       "      <td>0.0</td>\n",
       "      <td>13</td>\n",
       "      <td>31632</td>\n",
       "    </tr>\n",
       "    <tr>\n",
       "      <th>5713</th>\n",
       "      <td>Sunday</td>\n",
       "      <td>-66.0</td>\n",
       "      <td>14</td>\n",
       "      <td>31675</td>\n",
       "    </tr>\n",
       "    <tr>\n",
       "      <th>5714</th>\n",
       "      <td>Sunday</td>\n",
       "      <td>-138.0</td>\n",
       "      <td>15</td>\n",
       "      <td>31831</td>\n",
       "    </tr>\n",
       "    <tr>\n",
       "      <th>5715</th>\n",
       "      <td>Sunday</td>\n",
       "      <td>-1.0</td>\n",
       "      <td>1</td>\n",
       "      <td>32400</td>\n",
       "    </tr>\n",
       "  </tbody>\n",
       "</table>\n",
       "<p>978 rows × 4 columns</p>\n",
       "</div>"
      ],
      "text/plain": [
       "     DAY_OF_WEEK  DELAY  SEQUENCE  TIMESTAMP_SECONDS\n",
       "2100     Tuesday    0.0         1              27896\n",
       "2101     Tuesday   66.0         2              28080\n",
       "2102     Tuesday   19.0         3              28281\n",
       "2103     Tuesday   17.0         4              28347\n",
       "2104     Tuesday  -21.0         5              28375\n",
       "...          ...    ...       ...                ...\n",
       "5711      Sunday    5.0        12              31568\n",
       "5712      Sunday    0.0        13              31632\n",
       "5713      Sunday  -66.0        14              31675\n",
       "5714      Sunday -138.0        15              31831\n",
       "5715      Sunday   -1.0         1              32400\n",
       "\n",
       "[978 rows x 4 columns]"
      ]
     },
     "execution_count": 44,
     "metadata": {},
     "output_type": "execute_result"
    }
   ],
   "source": [
    "data_for_regression"
   ]
  },
  {
   "cell_type": "markdown",
   "metadata": {},
   "source": [
    "source: *https://scikit-learn.org/stable/modules/generated/sklearn.preprocessing.OneHotEncoder.html*"
   ]
  },
  {
   "cell_type": "markdown",
   "metadata": {},
   "source": [
    "Magic"
   ]
  },
  {
   "cell_type": "code",
   "execution_count": 45,
   "metadata": {},
   "outputs": [],
   "source": [
    "one_hot_dow = OneHotEncoder(drop=\"first\", sparse=False)\n",
    "one_hot_seq = OneHotEncoder(drop=\"first\", sparse=False)\n",
    "\n",
    "A_dummies_tmp = one_hot_dow.fit_transform(data_for_regression[\"DAY_OF_WEEK\"].to_numpy().reshape(-1, 1))\n",
    "A_dummies = pd.DataFrame(A_dummies_tmp, columns=one_hot_dow.get_feature_names()).dropna()\n",
    "\n",
    "B_dummies_tmp = one_hot_seq.fit_transform(data_for_regression[\"SEQUENCE\"].to_numpy().reshape(-1, 1))\n",
    "B_dummies = pd.DataFrame(B_dummies_tmp, columns=one_hot_seq.get_feature_names()).dropna()"
   ]
  },
  {
   "cell_type": "code",
   "execution_count": 46,
   "metadata": {},
   "outputs": [],
   "source": [
    "# Naše stará verze, zdroj: https://pandas.pydata.org/pandas-docs/stable/reference/api/pandas.get_dummies.html\n",
    "# A_dumies = pd.get_dummies(data_for_regression['DAY_OF_WEEK'],drop_first=True).dropna()\n",
    "# B_dumies = pd.get_dummies(data_for_regression['SEQUENCE'],drop_first=True).dropna()"
   ]
  },
  {
   "cell_type": "code",
   "execution_count": 47,
   "metadata": {},
   "outputs": [],
   "source": [
    "merged = pd.concat([\n",
    "    data_for_regression.reset_index(drop=True),\n",
    "    A_dummies.reset_index(drop=True),\n",
    "    B_dummies.reset_index(drop=True),\n",
    "],axis='columns')"
   ]
  },
  {
   "cell_type": "code",
   "execution_count": 49,
   "metadata": {
    "scrolled": false
   },
   "outputs": [
    {
     "name": "stdout",
     "output_type": "stream",
     "text": [
      "<class 'pandas.core.frame.DataFrame'>\n",
      "RangeIndex: 978 entries, 0 to 977\n",
      "Data columns (total 24 columns):\n",
      " #   Column             Non-Null Count  Dtype   \n",
      "---  ------             --------------  -----   \n",
      " 0   DAY_OF_WEEK        978 non-null    category\n",
      " 1   DELAY              978 non-null    float64 \n",
      " 2   SEQUENCE           978 non-null    int64   \n",
      " 3   TIMESTAMP_SECONDS  978 non-null    int64   \n",
      " 4   x0_Monday          978 non-null    float64 \n",
      " 5   x0_Saturday        978 non-null    float64 \n",
      " 6   x0_Sunday          978 non-null    float64 \n",
      " 7   x0_Thursday        978 non-null    float64 \n",
      " 8   x0_Tuesday         978 non-null    float64 \n",
      " 9   x0_Wednesday       978 non-null    float64 \n",
      " 10  x0_2               978 non-null    float64 \n",
      " 11  x0_3               978 non-null    float64 \n",
      " 12  x0_4               978 non-null    float64 \n",
      " 13  x0_5               978 non-null    float64 \n",
      " 14  x0_6               978 non-null    float64 \n",
      " 15  x0_7               978 non-null    float64 \n",
      " 16  x0_8               978 non-null    float64 \n",
      " 17  x0_9               978 non-null    float64 \n",
      " 18  x0_10              978 non-null    float64 \n",
      " 19  x0_11              978 non-null    float64 \n",
      " 20  x0_12              978 non-null    float64 \n",
      " 21  x0_13              978 non-null    float64 \n",
      " 22  x0_14              978 non-null    float64 \n",
      " 23  x0_15              978 non-null    float64 \n",
      "dtypes: category(1), float64(21), int64(2)\n",
      "memory usage: 177.2 KB\n"
     ]
    }
   ],
   "source": [
    "merged.info()"
   ]
  },
  {
   "cell_type": "code",
   "execution_count": 50,
   "metadata": {},
   "outputs": [],
   "source": [
    "final = merged.drop(['DAY_OF_WEEK','SEQUENCE'],axis='columns')"
   ]
  },
  {
   "cell_type": "markdown",
   "metadata": {},
   "source": [
    "#### We will predict Y from X"
   ]
  },
  {
   "cell_type": "code",
   "execution_count": 51,
   "metadata": {},
   "outputs": [],
   "source": [
    "X = final.drop(['DELAY'],axis='columns')"
   ]
  },
  {
   "cell_type": "markdown",
   "metadata": {},
   "source": [
    "Přidání konstanty (const = 1) z teoretického hlediska (=intercept)."
   ]
  },
  {
   "cell_type": "code",
   "execution_count": 52,
   "metadata": {},
   "outputs": [],
   "source": [
    "X = sm.add_constant(X)"
   ]
  },
  {
   "cell_type": "code",
   "execution_count": 53,
   "metadata": {},
   "outputs": [],
   "source": [
    "Y = merged.DELAY"
   ]
  },
  {
   "cell_type": "markdown",
   "metadata": {},
   "source": [
    "#### Metoda nejmenších čtevrců"
   ]
  },
  {
   "cell_type": "markdown",
   "metadata": {},
   "source": [
    "zdroj: *https://www.statsmodels.org/devel/generated/statsmodels.regression.linear_model.OLS.html?highlight=ols#statsmodels.regression.linear_model.OLS*"
   ]
  },
  {
   "cell_type": "code",
   "execution_count": 54,
   "metadata": {},
   "outputs": [],
   "source": [
    "sm_model = sm.OLS(Y, X)\n",
    "sm_result = sm_model.fit()"
   ]
  },
  {
   "cell_type": "markdown",
   "metadata": {},
   "source": [
    "Přehled "
   ]
  },
  {
   "cell_type": "code",
   "execution_count": 55,
   "metadata": {
    "scrolled": false
   },
   "outputs": [
    {
     "data": {
      "text/html": [
       "<table class=\"simpletable\">\n",
       "<caption>OLS Regression Results</caption>\n",
       "<tr>\n",
       "  <th>Dep. Variable:</th>          <td>DELAY</td>      <th>  R-squared:         </th> <td>   0.270</td> \n",
       "</tr>\n",
       "<tr>\n",
       "  <th>Model:</th>                   <td>OLS</td>       <th>  Adj. R-squared:    </th> <td>   0.254</td> \n",
       "</tr>\n",
       "<tr>\n",
       "  <th>Method:</th>             <td>Least Squares</td>  <th>  F-statistic:       </th> <td>   16.80</td> \n",
       "</tr>\n",
       "<tr>\n",
       "  <th>Date:</th>             <td>Sun, 31 May 2020</td> <th>  Prob (F-statistic):</th> <td>7.19e-52</td> \n",
       "</tr>\n",
       "<tr>\n",
       "  <th>Time:</th>                 <td>13:36:25</td>     <th>  Log-Likelihood:    </th> <td> -6042.4</td> \n",
       "</tr>\n",
       "<tr>\n",
       "  <th>No. Observations:</th>      <td>   978</td>      <th>  AIC:               </th> <td>1.213e+04</td>\n",
       "</tr>\n",
       "<tr>\n",
       "  <th>Df Residuals:</th>          <td>   956</td>      <th>  BIC:               </th> <td>1.224e+04</td>\n",
       "</tr>\n",
       "<tr>\n",
       "  <th>Df Model:</th>              <td>    21</td>      <th>                     </th>     <td> </td>    \n",
       "</tr>\n",
       "<tr>\n",
       "  <th>Covariance Type:</th>      <td>nonrobust</td>    <th>                     </th>     <td> </td>    \n",
       "</tr>\n",
       "</table>\n",
       "<table class=\"simpletable\">\n",
       "<tr>\n",
       "          <td></td>             <th>coef</th>     <th>std err</th>      <th>t</th>      <th>P>|t|</th>  <th>[0.025</th>    <th>0.975]</th>  \n",
       "</tr>\n",
       "<tr>\n",
       "  <th>const</th>             <td> -591.5553</td> <td>   71.235</td> <td>   -8.304</td> <td> 0.000</td> <td> -731.350</td> <td> -451.761</td>\n",
       "</tr>\n",
       "<tr>\n",
       "  <th>TIMESTAMP_SECONDS</th> <td>    0.0198</td> <td>    0.002</td> <td>    8.624</td> <td> 0.000</td> <td>    0.015</td> <td>    0.024</td>\n",
       "</tr>\n",
       "<tr>\n",
       "  <th>x0_Monday</th>         <td>   82.7690</td> <td>   13.795</td> <td>    6.000</td> <td> 0.000</td> <td>   55.697</td> <td>  109.841</td>\n",
       "</tr>\n",
       "<tr>\n",
       "  <th>x0_Saturday</th>       <td>   16.1607</td> <td>   20.915</td> <td>    0.773</td> <td> 0.440</td> <td>  -24.883</td> <td>   57.205</td>\n",
       "</tr>\n",
       "<tr>\n",
       "  <th>x0_Sunday</th>         <td>  -39.7629</td> <td>   20.758</td> <td>   -1.916</td> <td> 0.056</td> <td>  -80.500</td> <td>    0.974</td>\n",
       "</tr>\n",
       "<tr>\n",
       "  <th>x0_Thursday</th>       <td>   35.4912</td> <td>   15.812</td> <td>    2.245</td> <td> 0.025</td> <td>    4.462</td> <td>   66.521</td>\n",
       "</tr>\n",
       "<tr>\n",
       "  <th>x0_Tuesday</th>        <td>   55.4007</td> <td>   13.846</td> <td>    4.001</td> <td> 0.000</td> <td>   28.228</td> <td>   82.573</td>\n",
       "</tr>\n",
       "<tr>\n",
       "  <th>x0_Wednesday</th>      <td>   68.4139</td> <td>   13.794</td> <td>    4.960</td> <td> 0.000</td> <td>   41.343</td> <td>   95.484</td>\n",
       "</tr>\n",
       "<tr>\n",
       "  <th>x0_2</th>              <td>   19.6053</td> <td>   21.052</td> <td>    0.931</td> <td> 0.352</td> <td>  -21.708</td> <td>   60.919</td>\n",
       "</tr>\n",
       "<tr>\n",
       "  <th>x0_3</th>              <td>   22.9975</td> <td>   21.036</td> <td>    1.093</td> <td> 0.275</td> <td>  -18.284</td> <td>   64.279</td>\n",
       "</tr>\n",
       "<tr>\n",
       "  <th>x0_4</th>              <td>   18.3723</td> <td>   21.034</td> <td>    0.873</td> <td> 0.383</td> <td>  -22.906</td> <td>   59.651</td>\n",
       "</tr>\n",
       "<tr>\n",
       "  <th>x0_5</th>              <td>    1.0353</td> <td>   21.121</td> <td>    0.049</td> <td> 0.961</td> <td>  -40.414</td> <td>   42.485</td>\n",
       "</tr>\n",
       "<tr>\n",
       "  <th>x0_6</th>              <td>   20.3842</td> <td>   21.121</td> <td>    0.965</td> <td> 0.335</td> <td>  -21.064</td> <td>   61.832</td>\n",
       "</tr>\n",
       "<tr>\n",
       "  <th>x0_7</th>              <td>   41.6059</td> <td>   20.641</td> <td>    2.016</td> <td> 0.044</td> <td>    1.098</td> <td>   82.114</td>\n",
       "</tr>\n",
       "<tr>\n",
       "  <th>x0_8</th>              <td>   68.4581</td> <td>   21.063</td> <td>    3.250</td> <td> 0.001</td> <td>   27.123</td> <td>  109.793</td>\n",
       "</tr>\n",
       "<tr>\n",
       "  <th>x0_9</th>              <td>   78.2277</td> <td>   20.976</td> <td>    3.729</td> <td> 0.000</td> <td>   37.064</td> <td>  119.391</td>\n",
       "</tr>\n",
       "<tr>\n",
       "  <th>x0_10</th>             <td>   65.6722</td> <td>   20.971</td> <td>    3.132</td> <td> 0.002</td> <td>   24.518</td> <td>  106.826</td>\n",
       "</tr>\n",
       "<tr>\n",
       "  <th>x0_11</th>             <td>   74.3964</td> <td>   20.804</td> <td>    3.576</td> <td> 0.000</td> <td>   33.570</td> <td>  115.222</td>\n",
       "</tr>\n",
       "<tr>\n",
       "  <th>x0_12</th>             <td>  102.8666</td> <td>   20.442</td> <td>    5.032</td> <td> 0.000</td> <td>   62.751</td> <td>  142.982</td>\n",
       "</tr>\n",
       "<tr>\n",
       "  <th>x0_13</th>             <td>  153.3889</td> <td>   20.310</td> <td>    7.552</td> <td> 0.000</td> <td>  113.531</td> <td>  193.247</td>\n",
       "</tr>\n",
       "<tr>\n",
       "  <th>x0_14</th>             <td>  165.3260</td> <td>   20.184</td> <td>    8.191</td> <td> 0.000</td> <td>  125.717</td> <td>  204.935</td>\n",
       "</tr>\n",
       "<tr>\n",
       "  <th>x0_15</th>             <td>  160.4141</td> <td>   20.463</td> <td>    7.839</td> <td> 0.000</td> <td>  120.257</td> <td>  200.571</td>\n",
       "</tr>\n",
       "</table>\n",
       "<table class=\"simpletable\">\n",
       "<tr>\n",
       "  <th>Omnibus:</th>       <td>245.663</td> <th>  Durbin-Watson:     </th> <td>   0.426</td> \n",
       "</tr>\n",
       "<tr>\n",
       "  <th>Prob(Omnibus):</th> <td> 0.000</td>  <th>  Jarque-Bera (JB):  </th> <td> 697.199</td> \n",
       "</tr>\n",
       "<tr>\n",
       "  <th>Skew:</th>          <td> 1.261</td>  <th>  Prob(JB):          </th> <td>4.03e-152</td>\n",
       "</tr>\n",
       "<tr>\n",
       "  <th>Kurtosis:</th>      <td> 6.278</td>  <th>  Cond. No.          </th> <td>5.87e+05</td> \n",
       "</tr>\n",
       "</table><br/><br/>Warnings:<br/>[1] Standard Errors assume that the covariance matrix of the errors is correctly specified.<br/>[2] The condition number is large, 5.87e+05. This might indicate that there are<br/>strong multicollinearity or other numerical problems."
      ],
      "text/plain": [
       "<class 'statsmodels.iolib.summary.Summary'>\n",
       "\"\"\"\n",
       "                            OLS Regression Results                            \n",
       "==============================================================================\n",
       "Dep. Variable:                  DELAY   R-squared:                       0.270\n",
       "Model:                            OLS   Adj. R-squared:                  0.254\n",
       "Method:                 Least Squares   F-statistic:                     16.80\n",
       "Date:                Sun, 31 May 2020   Prob (F-statistic):           7.19e-52\n",
       "Time:                        13:36:25   Log-Likelihood:                -6042.4\n",
       "No. Observations:                 978   AIC:                         1.213e+04\n",
       "Df Residuals:                     956   BIC:                         1.224e+04\n",
       "Df Model:                          21                                         \n",
       "Covariance Type:            nonrobust                                         \n",
       "=====================================================================================\n",
       "                        coef    std err          t      P>|t|      [0.025      0.975]\n",
       "-------------------------------------------------------------------------------------\n",
       "const              -591.5553     71.235     -8.304      0.000    -731.350    -451.761\n",
       "TIMESTAMP_SECONDS     0.0198      0.002      8.624      0.000       0.015       0.024\n",
       "x0_Monday            82.7690     13.795      6.000      0.000      55.697     109.841\n",
       "x0_Saturday          16.1607     20.915      0.773      0.440     -24.883      57.205\n",
       "x0_Sunday           -39.7629     20.758     -1.916      0.056     -80.500       0.974\n",
       "x0_Thursday          35.4912     15.812      2.245      0.025       4.462      66.521\n",
       "x0_Tuesday           55.4007     13.846      4.001      0.000      28.228      82.573\n",
       "x0_Wednesday         68.4139     13.794      4.960      0.000      41.343      95.484\n",
       "x0_2                 19.6053     21.052      0.931      0.352     -21.708      60.919\n",
       "x0_3                 22.9975     21.036      1.093      0.275     -18.284      64.279\n",
       "x0_4                 18.3723     21.034      0.873      0.383     -22.906      59.651\n",
       "x0_5                  1.0353     21.121      0.049      0.961     -40.414      42.485\n",
       "x0_6                 20.3842     21.121      0.965      0.335     -21.064      61.832\n",
       "x0_7                 41.6059     20.641      2.016      0.044       1.098      82.114\n",
       "x0_8                 68.4581     21.063      3.250      0.001      27.123     109.793\n",
       "x0_9                 78.2277     20.976      3.729      0.000      37.064     119.391\n",
       "x0_10                65.6722     20.971      3.132      0.002      24.518     106.826\n",
       "x0_11                74.3964     20.804      3.576      0.000      33.570     115.222\n",
       "x0_12               102.8666     20.442      5.032      0.000      62.751     142.982\n",
       "x0_13               153.3889     20.310      7.552      0.000     113.531     193.247\n",
       "x0_14               165.3260     20.184      8.191      0.000     125.717     204.935\n",
       "x0_15               160.4141     20.463      7.839      0.000     120.257     200.571\n",
       "==============================================================================\n",
       "Omnibus:                      245.663   Durbin-Watson:                   0.426\n",
       "Prob(Omnibus):                  0.000   Jarque-Bera (JB):              697.199\n",
       "Skew:                           1.261   Prob(JB):                    4.03e-152\n",
       "Kurtosis:                       6.278   Cond. No.                     5.87e+05\n",
       "==============================================================================\n",
       "\n",
       "Warnings:\n",
       "[1] Standard Errors assume that the covariance matrix of the errors is correctly specified.\n",
       "[2] The condition number is large, 5.87e+05. This might indicate that there are\n",
       "strong multicollinearity or other numerical problems.\n",
       "\"\"\""
      ]
     },
     "execution_count": 55,
     "metadata": {},
     "output_type": "execute_result"
    }
   ],
   "source": [
    "sm_result.summary()"
   ]
  },
  {
   "cell_type": "markdown",
   "metadata": {},
   "source": [
    "#### Fitování modelu"
   ]
  },
  {
   "cell_type": "code",
   "execution_count": 56,
   "metadata": {},
   "outputs": [],
   "source": [
    "model = LinearRegression()"
   ]
  },
  {
   "cell_type": "code",
   "execution_count": 57,
   "metadata": {},
   "outputs": [
    {
     "data": {
      "text/plain": [
       "LinearRegression(copy_X=True, fit_intercept=True, n_jobs=None, normalize=False)"
      ]
     },
     "execution_count": 57,
     "metadata": {},
     "output_type": "execute_result"
    }
   ],
   "source": [
    "model.fit(X.drop(columns=\"const\"), Y)"
   ]
  },
  {
   "cell_type": "code",
   "execution_count": 58,
   "metadata": {},
   "outputs": [
    {
     "data": {
      "text/plain": [
       "array([ 1.98052282e-02,  8.27690426e+01,  1.61607046e+01, -3.97628671e+01,\n",
       "        3.54912499e+01,  5.54007061e+01,  6.84139499e+01,  1.96053389e+01,\n",
       "        2.29975278e+01,  1.83723165e+01,  1.03532262e+00,  2.03841754e+01,\n",
       "        4.16058980e+01,  6.84581019e+01,  7.82277019e+01,  6.56721603e+01,\n",
       "        7.43963946e+01,  1.02866564e+02,  1.53388904e+02,  1.65325975e+02,\n",
       "        1.60414099e+02])"
      ]
     },
     "execution_count": 58,
     "metadata": {},
     "output_type": "execute_result"
    }
   ],
   "source": [
    "model.coef_"
   ]
  },
  {
   "cell_type": "code",
   "execution_count": 59,
   "metadata": {
    "scrolled": true
   },
   "outputs": [
    {
     "data": {
      "text/html": [
       "<div>\n",
       "<style scoped>\n",
       "    .dataframe tbody tr th:only-of-type {\n",
       "        vertical-align: middle;\n",
       "    }\n",
       "\n",
       "    .dataframe tbody tr th {\n",
       "        vertical-align: top;\n",
       "    }\n",
       "\n",
       "    .dataframe thead th {\n",
       "        text-align: right;\n",
       "    }\n",
       "</style>\n",
       "<table border=\"1\" class=\"dataframe\">\n",
       "  <thead>\n",
       "    <tr style=\"text-align: right;\">\n",
       "      <th></th>\n",
       "      <th>DAY_OF_WEEK</th>\n",
       "      <th>DELAY</th>\n",
       "      <th>SEQUENCE</th>\n",
       "      <th>TIMESTAMP_SECONDS</th>\n",
       "    </tr>\n",
       "  </thead>\n",
       "  <tbody>\n",
       "    <tr>\n",
       "      <th>2100</th>\n",
       "      <td>Tuesday</td>\n",
       "      <td>0.0</td>\n",
       "      <td>1</td>\n",
       "      <td>27896</td>\n",
       "    </tr>\n",
       "    <tr>\n",
       "      <th>2101</th>\n",
       "      <td>Tuesday</td>\n",
       "      <td>66.0</td>\n",
       "      <td>2</td>\n",
       "      <td>28080</td>\n",
       "    </tr>\n",
       "    <tr>\n",
       "      <th>2102</th>\n",
       "      <td>Tuesday</td>\n",
       "      <td>19.0</td>\n",
       "      <td>3</td>\n",
       "      <td>28281</td>\n",
       "    </tr>\n",
       "    <tr>\n",
       "      <th>2103</th>\n",
       "      <td>Tuesday</td>\n",
       "      <td>17.0</td>\n",
       "      <td>4</td>\n",
       "      <td>28347</td>\n",
       "    </tr>\n",
       "    <tr>\n",
       "      <th>2104</th>\n",
       "      <td>Tuesday</td>\n",
       "      <td>-21.0</td>\n",
       "      <td>5</td>\n",
       "      <td>28375</td>\n",
       "    </tr>\n",
       "  </tbody>\n",
       "</table>\n",
       "</div>"
      ],
      "text/plain": [
       "     DAY_OF_WEEK  DELAY  SEQUENCE  TIMESTAMP_SECONDS\n",
       "2100     Tuesday    0.0         1              27896\n",
       "2101     Tuesday   66.0         2              28080\n",
       "2102     Tuesday   19.0         3              28281\n",
       "2103     Tuesday   17.0         4              28347\n",
       "2104     Tuesday  -21.0         5              28375"
      ]
     },
     "execution_count": 59,
     "metadata": {},
     "output_type": "execute_result"
    }
   ],
   "source": [
    "data_for_regression.head()"
   ]
  },
  {
   "cell_type": "markdown",
   "metadata": {},
   "source": [
    "#### Predikce"
   ]
  },
  {
   "cell_type": "code",
   "execution_count": 127,
   "metadata": {},
   "outputs": [],
   "source": [
    "data_for_prediction = pd.DataFrame({\n",
    "    \"DAY_OF_WEEK\": [\"Tuesday\"],\n",
    "    \"SEQUENCE\": [13],\n",
    "    \"TIMESTAMP_SECONDS\": [28000],\n",
    "})"
   ]
  },
  {
   "cell_type": "code",
   "execution_count": 128,
   "metadata": {},
   "outputs": [],
   "source": [
    "A_dummies_tmp = one_hot_dow.transform(data_for_prediction[\"DAY_OF_WEEK\"].to_numpy().reshape(-1, 1))\n",
    "A_dummies = pd.DataFrame(A_dummies_tmp, columns=one_hot_dow.get_feature_names()).dropna()\n",
    "\n",
    "B_dummies_tmp = one_hot_seq.transform(data_for_prediction[\"SEQUENCE\"].to_numpy().reshape(-1, 1))\n",
    "B_dummies = pd.DataFrame(B_dummies_tmp, columns=one_hot_seq.get_feature_names()).dropna()"
   ]
  },
  {
   "cell_type": "code",
   "execution_count": 129,
   "metadata": {},
   "outputs": [],
   "source": [
    "merged = pd.concat([\n",
    "    data_for_prediction.reset_index(drop=True),\n",
    "    A_dummies.reset_index(drop=True),\n",
    "    B_dummies.reset_index(drop=True),\n",
    "],axis='columns')\n",
    "\n",
    "final = merged.drop(['DAY_OF_WEEK','SEQUENCE'],axis='columns')"
   ]
  },
  {
   "cell_type": "code",
   "execution_count": 130,
   "metadata": {
    "scrolled": true
   },
   "outputs": [
    {
     "data": {
      "text/html": [
       "<div>\n",
       "<style scoped>\n",
       "    .dataframe tbody tr th:only-of-type {\n",
       "        vertical-align: middle;\n",
       "    }\n",
       "\n",
       "    .dataframe tbody tr th {\n",
       "        vertical-align: top;\n",
       "    }\n",
       "\n",
       "    .dataframe thead th {\n",
       "        text-align: right;\n",
       "    }\n",
       "</style>\n",
       "<table border=\"1\" class=\"dataframe\">\n",
       "  <thead>\n",
       "    <tr style=\"text-align: right;\">\n",
       "      <th></th>\n",
       "      <th>TIMESTAMP_SECONDS</th>\n",
       "      <th>x0_Monday</th>\n",
       "      <th>x0_Saturday</th>\n",
       "      <th>x0_Sunday</th>\n",
       "      <th>x0_Thursday</th>\n",
       "      <th>x0_Tuesday</th>\n",
       "      <th>x0_Wednesday</th>\n",
       "      <th>x0_2</th>\n",
       "      <th>x0_3</th>\n",
       "      <th>x0_4</th>\n",
       "      <th>...</th>\n",
       "      <th>x0_6</th>\n",
       "      <th>x0_7</th>\n",
       "      <th>x0_8</th>\n",
       "      <th>x0_9</th>\n",
       "      <th>x0_10</th>\n",
       "      <th>x0_11</th>\n",
       "      <th>x0_12</th>\n",
       "      <th>x0_13</th>\n",
       "      <th>x0_14</th>\n",
       "      <th>x0_15</th>\n",
       "    </tr>\n",
       "  </thead>\n",
       "  <tbody>\n",
       "    <tr>\n",
       "      <th>0</th>\n",
       "      <td>28000</td>\n",
       "      <td>0.0</td>\n",
       "      <td>0.0</td>\n",
       "      <td>0.0</td>\n",
       "      <td>0.0</td>\n",
       "      <td>1.0</td>\n",
       "      <td>0.0</td>\n",
       "      <td>0.0</td>\n",
       "      <td>0.0</td>\n",
       "      <td>0.0</td>\n",
       "      <td>...</td>\n",
       "      <td>0.0</td>\n",
       "      <td>0.0</td>\n",
       "      <td>0.0</td>\n",
       "      <td>0.0</td>\n",
       "      <td>0.0</td>\n",
       "      <td>0.0</td>\n",
       "      <td>0.0</td>\n",
       "      <td>1.0</td>\n",
       "      <td>0.0</td>\n",
       "      <td>0.0</td>\n",
       "    </tr>\n",
       "  </tbody>\n",
       "</table>\n",
       "<p>1 rows × 21 columns</p>\n",
       "</div>"
      ],
      "text/plain": [
       "   TIMESTAMP_SECONDS  x0_Monday  x0_Saturday  x0_Sunday  x0_Thursday  \\\n",
       "0              28000        0.0          0.0        0.0          0.0   \n",
       "\n",
       "   x0_Tuesday  x0_Wednesday  x0_2  x0_3  x0_4  ...  x0_6  x0_7  x0_8  x0_9  \\\n",
       "0         1.0           0.0   0.0   0.0   0.0  ...   0.0   0.0   0.0   0.0   \n",
       "\n",
       "   x0_10  x0_11  x0_12  x0_13  x0_14  x0_15  \n",
       "0    0.0    0.0    0.0    1.0    0.0    0.0  \n",
       "\n",
       "[1 rows x 21 columns]"
      ]
     },
     "execution_count": 130,
     "metadata": {},
     "output_type": "execute_result"
    }
   ],
   "source": [
    "final"
   ]
  },
  {
   "cell_type": "code",
   "execution_count": 131,
   "metadata": {},
   "outputs": [
    {
     "data": {
      "text/plain": [
       "array([171.7806759])"
      ]
     },
     "execution_count": 131,
     "metadata": {},
     "output_type": "execute_result"
    }
   ],
   "source": [
    "model.predict(final)"
   ]
  }
 ],
 "metadata": {
  "kernelspec": {
   "display_name": "Python 3",
   "language": "python",
   "name": "python3"
  },
  "language_info": {
   "codemirror_mode": {
    "name": "ipython",
    "version": 3
   },
   "file_extension": ".py",
   "mimetype": "text/x-python",
   "name": "python",
   "nbconvert_exporter": "python",
   "pygments_lexer": "ipython3",
   "version": "3.7.6"
  }
 },
 "nbformat": 4,
 "nbformat_minor": 4
}
