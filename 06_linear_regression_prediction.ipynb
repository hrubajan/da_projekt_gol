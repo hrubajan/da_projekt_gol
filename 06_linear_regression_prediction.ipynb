{
 "cells": [
  {
   "cell_type": "markdown",
   "metadata": {},
   "source": [
    "# **Import**"
   ]
  },
  {
   "cell_type": "code",
   "execution_count": 1,
   "metadata": {},
   "outputs": [],
   "source": [
    "import pandas as pd\n",
    "import numpy as np\n",
    "import matplotlib.pyplot as plt\n",
    "from plotnine import *\n",
    "import json\n",
    "import csv\n",
    "import datetime as dt\n",
    "import  math\n",
    "\n",
    "import warnings\n",
    "\n",
    "from sklearn.linear_model import LinearRegression\n",
    "import statsmodels.api as sm\n",
    "from sklearn.preprocessing import OneHotEncoder\n",
    "\n",
    "from scipy.stats import kruskal\n",
    "from scipy.stats import shapiro\n",
    "from scipy.stats import mannwhitneyu\n",
    "\n",
    "from numpy import mean\n",
    "from numpy import std\n",
    "\n",
    "from typing import List"
   ]
  },
  {
   "cell_type": "code",
   "execution_count": 2,
   "metadata": {},
   "outputs": [],
   "source": [
    "import seaborn as sns\n",
    "sns.set(style=\"ticks\")\n",
    "sns.set_color_codes(\"colorblind\")\n",
    "sns.set(style=\"darkgrid\")"
   ]
  },
  {
   "cell_type": "code",
   "execution_count": 3,
   "metadata": {},
   "outputs": [],
   "source": [
    "import warnings\n",
    "warnings.filterwarnings('ignore')"
   ]
  },
  {
   "cell_type": "markdown",
   "metadata": {},
   "source": [
    "# **Load of data, new columns, datatypes and period of time definiton**"
   ]
  },
  {
   "cell_type": "code",
   "execution_count": 4,
   "metadata": {},
   "outputs": [],
   "source": [
    "soubor = pd.read_csv('final.csv', encoding='utf-8', low_memory=False)"
   ]
  },
  {
   "cell_type": "markdown",
   "metadata": {},
   "source": [
    "Datatypes"
   ]
  },
  {
   "cell_type": "code",
   "execution_count": 5,
   "metadata": {},
   "outputs": [],
   "source": [
    "soubor['TIMETABLE_ARRIVAL_TIME'] = pd.to_datetime(soubor['TIMETABLE_ARRIVAL_TIME']).dt.time"
   ]
  },
  {
   "cell_type": "code",
   "execution_count": 6,
   "metadata": {},
   "outputs": [],
   "source": [
    "soubor['ORIGIN_TIMESTAMP'] = pd.to_datetime(soubor['ORIGIN_TIMESTAMP']).dt.time"
   ]
  },
  {
   "cell_type": "code",
   "execution_count": 7,
   "metadata": {},
   "outputs": [],
   "source": [
    "soubor['START_TIME'] = pd.to_datetime(soubor['START_TIME']).dt.time"
   ]
  },
  {
   "cell_type": "markdown",
   "metadata": {},
   "source": [
    "New column with time (hours&minutes) when the bus sent the location/was at the bus stop"
   ]
  },
  {
   "cell_type": "code",
   "execution_count": 8,
   "metadata": {},
   "outputs": [],
   "source": [
    "for i, x in enumerate(soubor['ORIGIN_TIMESTAMP']):\n",
    "    hour = x.hour\n",
    "    minute = (math.floor(x.minute/10))*(1/6)\n",
    "    soubor.loc[i,'HOUR'] = hour\n",
    "    soubor.loc[i,'MINUTES'] = minute\n",
    "    soubor.loc[i,'TIME'] = hour+minute"
   ]
  },
  {
   "cell_type": "markdown",
   "metadata": {},
   "source": [
    "We want only rows where delay is higher than zero "
   ]
  },
  {
   "cell_type": "code",
   "execution_count": 9,
   "metadata": {},
   "outputs": [],
   "source": [
    "soubor = soubor[soubor['DELAY'] > 0]"
   ]
  },
  {
   "cell_type": "markdown",
   "metadata": {},
   "source": [
    "Inside covid period / after covid period / week / weekend"
   ]
  },
  {
   "cell_type": "code",
   "execution_count": 10,
   "metadata": {},
   "outputs": [],
   "source": [
    "inside_covid = soubor[(soubor['DATE'] <= '2020-05-17') & (~soubor['DAY_OF_WEEK'].isin(['Saturday','Sunday']))]"
   ]
  },
  {
   "cell_type": "code",
   "execution_count": 11,
   "metadata": {
    "scrolled": true
   },
   "outputs": [
    {
     "data": {
      "text/plain": [
       "176"
      ]
     },
     "execution_count": 11,
     "metadata": {},
     "output_type": "execute_result"
    }
   ],
   "source": [
    "len(inside_covid['UNICORN'].unique())"
   ]
  },
  {
   "cell_type": "code",
   "execution_count": 12,
   "metadata": {},
   "outputs": [],
   "source": [
    "after_covid_week = soubor[(soubor['DATE'] >= '2020-05-18') & (~soubor['DAY_OF_WEEK'].isin(['Saturday','Sunday']))]"
   ]
  },
  {
   "cell_type": "code",
   "execution_count": 13,
   "metadata": {},
   "outputs": [
    {
     "data": {
      "text/plain": [
       "238"
      ]
     },
     "execution_count": 13,
     "metadata": {},
     "output_type": "execute_result"
    }
   ],
   "source": [
    "len(after_covid_week['UNICORN'].unique())"
   ]
  },
  {
   "cell_type": "code",
   "execution_count": 14,
   "metadata": {},
   "outputs": [],
   "source": [
    "after_covid_wknd = soubor[(soubor['DATE'] >= '2020-05-18') & (soubor['DAY_OF_WEEK'].isin(['Saturday','Sunday']))]"
   ]
  },
  {
   "cell_type": "code",
   "execution_count": 15,
   "metadata": {},
   "outputs": [
    {
     "data": {
      "text/plain": [
       "78"
      ]
     },
     "execution_count": 15,
     "metadata": {},
     "output_type": "execute_result"
    }
   ],
   "source": [
    "len(after_covid_wknd['UNICORN'].unique())"
   ]
  },
  {
   "cell_type": "code",
   "execution_count": 16,
   "metadata": {},
   "outputs": [],
   "source": [
    "after_covid_full = soubor[soubor['DATE'] >= '2020-05-18']"
   ]
  },
  {
   "cell_type": "code",
   "execution_count": 17,
   "metadata": {
    "scrolled": true
   },
   "outputs": [
    {
     "data": {
      "text/plain": [
       "316"
      ]
     },
     "execution_count": 17,
     "metadata": {},
     "output_type": "execute_result"
    }
   ],
   "source": [
    "len(after_covid_full['UNICORN'].unique())"
   ]
  },
  {
   "cell_type": "code",
   "execution_count": 18,
   "metadata": {},
   "outputs": [],
   "source": [
    "t1 = dt.time(7,50,0)\n",
    "t2 = dt.time(9,20,0)"
   ]
  },
  {
   "cell_type": "code",
   "execution_count": 19,
   "metadata": {},
   "outputs": [],
   "source": [
    "full_week = after_covid_full[ (after_covid_full['ORIGIN_TIMESTAMP']>=t1) & (after_covid_full['ORIGIN_TIMESTAMP']<=t2) ]"
   ]
  },
  {
   "cell_type": "markdown",
   "metadata": {},
   "source": [
    "# **Linear Regression**"
   ]
  },
  {
   "cell_type": "code",
   "execution_count": 20,
   "metadata": {},
   "outputs": [],
   "source": [
    "data_for_regression = full_week[['DAY_OF_WEEK','DELAY','ORIGIN_TIMESTAMP','SEQUENCE']]"
   ]
  },
  {
   "cell_type": "code",
   "execution_count": 21,
   "metadata": {},
   "outputs": [],
   "source": [
    "timestamp = pd.to_datetime(data_for_regression['ORIGIN_TIMESTAMP'].astype(str))\n",
    "seconds = timestamp.dt.second\n",
    "minutes = timestamp.dt.minute\n",
    "hours = timestamp.dt.hour\n",
    "\n",
    "timestamp_seconds = seconds + minutes * 60 + hours * 60 * 60\n",
    "data_for_regression[\"TIMESTAMP_SECONDS\"] = timestamp_seconds\n",
    "data_for_regression.drop(columns=[\"ORIGIN_TIMESTAMP\",], inplace=True)"
   ]
  },
  {
   "cell_type": "code",
   "execution_count": 22,
   "metadata": {
    "scrolled": false
   },
   "outputs": [
    {
     "data": {
      "text/html": [
       "<div>\n",
       "<style scoped>\n",
       "    .dataframe tbody tr th:only-of-type {\n",
       "        vertical-align: middle;\n",
       "    }\n",
       "\n",
       "    .dataframe tbody tr th {\n",
       "        vertical-align: top;\n",
       "    }\n",
       "\n",
       "    .dataframe thead th {\n",
       "        text-align: right;\n",
       "    }\n",
       "</style>\n",
       "<table border=\"1\" class=\"dataframe\">\n",
       "  <thead>\n",
       "    <tr style=\"text-align: right;\">\n",
       "      <th></th>\n",
       "      <th>DAY_OF_WEEK</th>\n",
       "      <th>DELAY</th>\n",
       "      <th>SEQUENCE</th>\n",
       "      <th>TIMESTAMP_SECONDS</th>\n",
       "    </tr>\n",
       "  </thead>\n",
       "  <tbody>\n",
       "    <tr>\n",
       "      <th>2430</th>\n",
       "      <td>Tuesday</td>\n",
       "      <td>66.0</td>\n",
       "      <td>1</td>\n",
       "      <td>29591</td>\n",
       "    </tr>\n",
       "    <tr>\n",
       "      <th>2431</th>\n",
       "      <td>Tuesday</td>\n",
       "      <td>16.0</td>\n",
       "      <td>2</td>\n",
       "      <td>29656</td>\n",
       "    </tr>\n",
       "    <tr>\n",
       "      <th>2432</th>\n",
       "      <td>Tuesday</td>\n",
       "      <td>16.0</td>\n",
       "      <td>3</td>\n",
       "      <td>29891</td>\n",
       "    </tr>\n",
       "    <tr>\n",
       "      <th>2433</th>\n",
       "      <td>Tuesday</td>\n",
       "      <td>7.0</td>\n",
       "      <td>4</td>\n",
       "      <td>29942</td>\n",
       "    </tr>\n",
       "    <tr>\n",
       "      <th>2434</th>\n",
       "      <td>Tuesday</td>\n",
       "      <td>19.0</td>\n",
       "      <td>5</td>\n",
       "      <td>30009</td>\n",
       "    </tr>\n",
       "    <tr>\n",
       "      <th>...</th>\n",
       "      <td>...</td>\n",
       "      <td>...</td>\n",
       "      <td>...</td>\n",
       "      <td>...</td>\n",
       "    </tr>\n",
       "    <tr>\n",
       "      <th>8393</th>\n",
       "      <td>Saturday</td>\n",
       "      <td>121.0</td>\n",
       "      <td>9</td>\n",
       "      <td>33240</td>\n",
       "    </tr>\n",
       "    <tr>\n",
       "      <th>8394</th>\n",
       "      <td>Saturday</td>\n",
       "      <td>117.0</td>\n",
       "      <td>10</td>\n",
       "      <td>33302</td>\n",
       "    </tr>\n",
       "    <tr>\n",
       "      <th>8395</th>\n",
       "      <td>Saturday</td>\n",
       "      <td>88.0</td>\n",
       "      <td>11</td>\n",
       "      <td>33383</td>\n",
       "    </tr>\n",
       "    <tr>\n",
       "      <th>8396</th>\n",
       "      <td>Saturday</td>\n",
       "      <td>110.0</td>\n",
       "      <td>12</td>\n",
       "      <td>33473</td>\n",
       "    </tr>\n",
       "    <tr>\n",
       "      <th>8397</th>\n",
       "      <td>Saturday</td>\n",
       "      <td>86.0</td>\n",
       "      <td>13</td>\n",
       "      <td>33501</td>\n",
       "    </tr>\n",
       "  </tbody>\n",
       "</table>\n",
       "<p>1766 rows × 4 columns</p>\n",
       "</div>"
      ],
      "text/plain": [
       "     DAY_OF_WEEK  DELAY  SEQUENCE  TIMESTAMP_SECONDS\n",
       "2430     Tuesday   66.0         1              29591\n",
       "2431     Tuesday   16.0         2              29656\n",
       "2432     Tuesday   16.0         3              29891\n",
       "2433     Tuesday    7.0         4              29942\n",
       "2434     Tuesday   19.0         5              30009\n",
       "...          ...    ...       ...                ...\n",
       "8393    Saturday  121.0         9              33240\n",
       "8394    Saturday  117.0        10              33302\n",
       "8395    Saturday   88.0        11              33383\n",
       "8396    Saturday  110.0        12              33473\n",
       "8397    Saturday   86.0        13              33501\n",
       "\n",
       "[1766 rows x 4 columns]"
      ]
     },
     "execution_count": 22,
     "metadata": {},
     "output_type": "execute_result"
    }
   ],
   "source": [
    "data_for_regression"
   ]
  },
  {
   "cell_type": "markdown",
   "metadata": {},
   "source": [
    "source: *https://scikit-learn.org/stable/modules/generated/sklearn.preprocessing.OneHotEncoder.html*"
   ]
  },
  {
   "cell_type": "markdown",
   "metadata": {},
   "source": [
    "**Categorical variables -> Dummy variables**"
   ]
  },
  {
   "cell_type": "code",
   "execution_count": 23,
   "metadata": {},
   "outputs": [],
   "source": [
    "one_hot_dow = OneHotEncoder(drop=\"first\", sparse=False)\n",
    "one_hot_seq = OneHotEncoder(drop=\"first\", sparse=False)\n",
    "\n",
    "A_dummies_tmp = one_hot_dow.fit_transform(data_for_regression[\"DAY_OF_WEEK\"].to_numpy().reshape(-1, 1))\n",
    "A_dummies = pd.DataFrame(A_dummies_tmp, columns=one_hot_dow.get_feature_names()).dropna()\n",
    "\n",
    "B_dummies_tmp = one_hot_seq.fit_transform(data_for_regression[\"SEQUENCE\"].to_numpy().reshape(-1, 1))\n",
    "B_dummies = pd.DataFrame(B_dummies_tmp, columns=one_hot_seq.get_feature_names()).dropna()"
   ]
  },
  {
   "cell_type": "code",
   "execution_count": 24,
   "metadata": {},
   "outputs": [],
   "source": [
    "merged = pd.concat([\n",
    "    data_for_regression.reset_index(drop=True),\n",
    "    A_dummies.reset_index(drop=True),\n",
    "    B_dummies.reset_index(drop=True),\n",
    "],axis='columns')"
   ]
  },
  {
   "cell_type": "code",
   "execution_count": 25,
   "metadata": {
    "scrolled": false
   },
   "outputs": [
    {
     "name": "stdout",
     "output_type": "stream",
     "text": [
      "<class 'pandas.core.frame.DataFrame'>\n",
      "RangeIndex: 1766 entries, 0 to 1765\n",
      "Data columns (total 24 columns):\n",
      " #   Column             Non-Null Count  Dtype  \n",
      "---  ------             --------------  -----  \n",
      " 0   DAY_OF_WEEK        1766 non-null   object \n",
      " 1   DELAY              1766 non-null   float64\n",
      " 2   SEQUENCE           1766 non-null   int64  \n",
      " 3   TIMESTAMP_SECONDS  1766 non-null   int64  \n",
      " 4   x0_Monday          1766 non-null   float64\n",
      " 5   x0_Saturday        1766 non-null   float64\n",
      " 6   x0_Sunday          1766 non-null   float64\n",
      " 7   x0_Thursday        1766 non-null   float64\n",
      " 8   x0_Tuesday         1766 non-null   float64\n",
      " 9   x0_Wednesday       1766 non-null   float64\n",
      " 10  x0_2               1766 non-null   float64\n",
      " 11  x0_3               1766 non-null   float64\n",
      " 12  x0_4               1766 non-null   float64\n",
      " 13  x0_5               1766 non-null   float64\n",
      " 14  x0_6               1766 non-null   float64\n",
      " 15  x0_7               1766 non-null   float64\n",
      " 16  x0_8               1766 non-null   float64\n",
      " 17  x0_9               1766 non-null   float64\n",
      " 18  x0_10              1766 non-null   float64\n",
      " 19  x0_11              1766 non-null   float64\n",
      " 20  x0_12              1766 non-null   float64\n",
      " 21  x0_13              1766 non-null   float64\n",
      " 22  x0_14              1766 non-null   float64\n",
      " 23  x0_15              1766 non-null   float64\n",
      "dtypes: float64(21), int64(2), object(1)\n",
      "memory usage: 331.2+ KB\n"
     ]
    }
   ],
   "source": [
    "merged.info()"
   ]
  },
  {
   "cell_type": "code",
   "execution_count": 26,
   "metadata": {},
   "outputs": [],
   "source": [
    "final = merged.drop(['DAY_OF_WEEK','SEQUENCE'],axis='columns')"
   ]
  },
  {
   "cell_type": "markdown",
   "metadata": {},
   "source": [
    "#### We will predict Y from X"
   ]
  },
  {
   "cell_type": "code",
   "execution_count": 27,
   "metadata": {},
   "outputs": [],
   "source": [
    "X = final.drop(['DELAY'],axis='columns')"
   ]
  },
  {
   "cell_type": "markdown",
   "metadata": {},
   "source": [
    "Přidání konstanty (const = 1) z teoretického hlediska (=intercept)."
   ]
  },
  {
   "cell_type": "code",
   "execution_count": 28,
   "metadata": {},
   "outputs": [],
   "source": [
    "X = sm.add_constant(X)"
   ]
  },
  {
   "cell_type": "code",
   "execution_count": 29,
   "metadata": {},
   "outputs": [],
   "source": [
    "Y = final.DELAY"
   ]
  },
  {
   "cell_type": "markdown",
   "metadata": {},
   "source": [
    "**OLS**"
   ]
  },
  {
   "cell_type": "markdown",
   "metadata": {},
   "source": [
    "zdroj: *https://www.statsmodels.org/devel/generated/statsmodels.regression.linear_model.OLS.html?highlight=ols#statsmodels.regression.linear_model.OLS*"
   ]
  },
  {
   "cell_type": "code",
   "execution_count": 30,
   "metadata": {},
   "outputs": [],
   "source": [
    "sm_model = sm.OLS(Y, X)\n",
    "sm_result = sm_model.fit()"
   ]
  },
  {
   "cell_type": "markdown",
   "metadata": {},
   "source": [
    "**Summary**"
   ]
  },
  {
   "cell_type": "markdown",
   "metadata": {},
   "source": [
    "Diagnostické testy sloužící k posouzení přesnosti modelu"
   ]
  },
  {
   "cell_type": "code",
   "execution_count": 31,
   "metadata": {
    "scrolled": false
   },
   "outputs": [
    {
     "data": {
      "text/html": [
       "<table class=\"simpletable\">\n",
       "<caption>OLS Regression Results</caption>\n",
       "<tr>\n",
       "  <th>Dep. Variable:</th>          <td>DELAY</td>      <th>  R-squared:         </th> <td>   0.341</td> \n",
       "</tr>\n",
       "<tr>\n",
       "  <th>Model:</th>                   <td>OLS</td>       <th>  Adj. R-squared:    </th> <td>   0.333</td> \n",
       "</tr>\n",
       "<tr>\n",
       "  <th>Method:</th>             <td>Least Squares</td>  <th>  F-statistic:       </th> <td>   42.99</td> \n",
       "</tr>\n",
       "<tr>\n",
       "  <th>Date:</th>             <td>Thu, 11 Jun 2020</td> <th>  Prob (F-statistic):</th> <td>3.19e-141</td>\n",
       "</tr>\n",
       "<tr>\n",
       "  <th>Time:</th>                 <td>01:01:56</td>     <th>  Log-Likelihood:    </th> <td> -10801.</td> \n",
       "</tr>\n",
       "<tr>\n",
       "  <th>No. Observations:</th>      <td>  1766</td>      <th>  AIC:               </th> <td>2.165e+04</td>\n",
       "</tr>\n",
       "<tr>\n",
       "  <th>Df Residuals:</th>          <td>  1744</td>      <th>  BIC:               </th> <td>2.177e+04</td>\n",
       "</tr>\n",
       "<tr>\n",
       "  <th>Df Model:</th>              <td>    21</td>      <th>                     </th>     <td> </td>    \n",
       "</tr>\n",
       "<tr>\n",
       "  <th>Covariance Type:</th>      <td>nonrobust</td>    <th>                     </th>     <td> </td>    \n",
       "</tr>\n",
       "</table>\n",
       "<table class=\"simpletable\">\n",
       "<tr>\n",
       "          <td></td>             <th>coef</th>     <th>std err</th>      <th>t</th>      <th>P>|t|</th>  <th>[0.025</th>    <th>0.975]</th>  \n",
       "</tr>\n",
       "<tr>\n",
       "  <th>const</th>             <td>    4.7873</td> <td>   56.036</td> <td>    0.085</td> <td> 0.932</td> <td> -105.117</td> <td>  114.691</td>\n",
       "</tr>\n",
       "<tr>\n",
       "  <th>TIMESTAMP_SECONDS</th> <td>    0.0015</td> <td>    0.002</td> <td>    0.830</td> <td> 0.407</td> <td>   -0.002</td> <td>    0.005</td>\n",
       "</tr>\n",
       "<tr>\n",
       "  <th>x0_Monday</th>         <td>   77.8023</td> <td>    8.822</td> <td>    8.819</td> <td> 0.000</td> <td>   60.500</td> <td>   95.105</td>\n",
       "</tr>\n",
       "<tr>\n",
       "  <th>x0_Saturday</th>       <td>  -20.6715</td> <td>   13.145</td> <td>   -1.573</td> <td> 0.116</td> <td>  -46.454</td> <td>    5.111</td>\n",
       "</tr>\n",
       "<tr>\n",
       "  <th>x0_Sunday</th>         <td>  -14.8864</td> <td>   13.991</td> <td>   -1.064</td> <td> 0.287</td> <td>  -42.327</td> <td>   12.554</td>\n",
       "</tr>\n",
       "<tr>\n",
       "  <th>x0_Thursday</th>       <td>   39.4030</td> <td>    9.403</td> <td>    4.190</td> <td> 0.000</td> <td>   20.961</td> <td>   57.845</td>\n",
       "</tr>\n",
       "<tr>\n",
       "  <th>x0_Tuesday</th>        <td>   43.4492</td> <td>    8.846</td> <td>    4.912</td> <td> 0.000</td> <td>   26.099</td> <td>   60.800</td>\n",
       "</tr>\n",
       "<tr>\n",
       "  <th>x0_Wednesday</th>      <td>   63.6546</td> <td>    9.468</td> <td>    6.723</td> <td> 0.000</td> <td>   45.084</td> <td>   82.225</td>\n",
       "</tr>\n",
       "<tr>\n",
       "  <th>x0_2</th>              <td>   -3.5184</td> <td>   16.124</td> <td>   -0.218</td> <td> 0.827</td> <td>  -35.144</td> <td>   28.107</td>\n",
       "</tr>\n",
       "<tr>\n",
       "  <th>x0_3</th>              <td>   -1.3942</td> <td>   15.501</td> <td>   -0.090</td> <td> 0.928</td> <td>  -31.796</td> <td>   29.007</td>\n",
       "</tr>\n",
       "<tr>\n",
       "  <th>x0_4</th>              <td>   -3.0381</td> <td>   15.584</td> <td>   -0.195</td> <td> 0.845</td> <td>  -33.603</td> <td>   27.527</td>\n",
       "</tr>\n",
       "<tr>\n",
       "  <th>x0_5</th>              <td>   -5.9650</td> <td>   16.089</td> <td>   -0.371</td> <td> 0.711</td> <td>  -37.521</td> <td>   25.591</td>\n",
       "</tr>\n",
       "<tr>\n",
       "  <th>x0_6</th>              <td>    2.3632</td> <td>   15.448</td> <td>    0.153</td> <td> 0.878</td> <td>  -27.936</td> <td>   32.662</td>\n",
       "</tr>\n",
       "<tr>\n",
       "  <th>x0_7</th>              <td>   19.1162</td> <td>   15.148</td> <td>    1.262</td> <td> 0.207</td> <td>  -10.594</td> <td>   48.826</td>\n",
       "</tr>\n",
       "<tr>\n",
       "  <th>x0_8</th>              <td>   37.2361</td> <td>   15.169</td> <td>    2.455</td> <td> 0.014</td> <td>    7.484</td> <td>   66.988</td>\n",
       "</tr>\n",
       "<tr>\n",
       "  <th>x0_9</th>              <td>   40.4226</td> <td>   15.128</td> <td>    2.672</td> <td> 0.008</td> <td>   10.752</td> <td>   70.093</td>\n",
       "</tr>\n",
       "<tr>\n",
       "  <th>x0_10</th>             <td>   36.0359</td> <td>   15.332</td> <td>    2.350</td> <td> 0.019</td> <td>    5.966</td> <td>   66.106</td>\n",
       "</tr>\n",
       "<tr>\n",
       "  <th>x0_11</th>             <td>   55.4548</td> <td>   15.509</td> <td>    3.576</td> <td> 0.000</td> <td>   25.036</td> <td>   85.874</td>\n",
       "</tr>\n",
       "<tr>\n",
       "  <th>x0_12</th>             <td>   88.7903</td> <td>   15.373</td> <td>    5.776</td> <td> 0.000</td> <td>   58.638</td> <td>  118.943</td>\n",
       "</tr>\n",
       "<tr>\n",
       "  <th>x0_13</th>             <td>  154.6179</td> <td>   15.344</td> <td>   10.077</td> <td> 0.000</td> <td>  124.523</td> <td>  184.712</td>\n",
       "</tr>\n",
       "<tr>\n",
       "  <th>x0_14</th>             <td>  181.2139</td> <td>   15.417</td> <td>   11.754</td> <td> 0.000</td> <td>  150.976</td> <td>  211.452</td>\n",
       "</tr>\n",
       "<tr>\n",
       "  <th>x0_15</th>             <td>  215.7955</td> <td>   15.654</td> <td>   13.785</td> <td> 0.000</td> <td>  185.093</td> <td>  246.498</td>\n",
       "</tr>\n",
       "</table>\n",
       "<table class=\"simpletable\">\n",
       "<tr>\n",
       "  <th>Omnibus:</th>       <td>239.634</td> <th>  Durbin-Watson:     </th> <td>   0.424</td> \n",
       "</tr>\n",
       "<tr>\n",
       "  <th>Prob(Omnibus):</th> <td> 0.000</td>  <th>  Jarque-Bera (JB):  </th> <td> 480.559</td> \n",
       "</tr>\n",
       "<tr>\n",
       "  <th>Skew:</th>          <td> 0.826</td>  <th>  Prob(JB):          </th> <td>4.45e-105</td>\n",
       "</tr>\n",
       "<tr>\n",
       "  <th>Kurtosis:</th>      <td> 4.950</td>  <th>  Cond. No.          </th> <td>6.80e+05</td> \n",
       "</tr>\n",
       "</table><br/><br/>Warnings:<br/>[1] Standard Errors assume that the covariance matrix of the errors is correctly specified.<br/>[2] The condition number is large, 6.8e+05. This might indicate that there are<br/>strong multicollinearity or other numerical problems."
      ],
      "text/plain": [
       "<class 'statsmodels.iolib.summary.Summary'>\n",
       "\"\"\"\n",
       "                            OLS Regression Results                            \n",
       "==============================================================================\n",
       "Dep. Variable:                  DELAY   R-squared:                       0.341\n",
       "Model:                            OLS   Adj. R-squared:                  0.333\n",
       "Method:                 Least Squares   F-statistic:                     42.99\n",
       "Date:                Thu, 11 Jun 2020   Prob (F-statistic):          3.19e-141\n",
       "Time:                        01:01:56   Log-Likelihood:                -10801.\n",
       "No. Observations:                1766   AIC:                         2.165e+04\n",
       "Df Residuals:                    1744   BIC:                         2.177e+04\n",
       "Df Model:                          21                                         \n",
       "Covariance Type:            nonrobust                                         \n",
       "=====================================================================================\n",
       "                        coef    std err          t      P>|t|      [0.025      0.975]\n",
       "-------------------------------------------------------------------------------------\n",
       "const                 4.7873     56.036      0.085      0.932    -105.117     114.691\n",
       "TIMESTAMP_SECONDS     0.0015      0.002      0.830      0.407      -0.002       0.005\n",
       "x0_Monday            77.8023      8.822      8.819      0.000      60.500      95.105\n",
       "x0_Saturday         -20.6715     13.145     -1.573      0.116     -46.454       5.111\n",
       "x0_Sunday           -14.8864     13.991     -1.064      0.287     -42.327      12.554\n",
       "x0_Thursday          39.4030      9.403      4.190      0.000      20.961      57.845\n",
       "x0_Tuesday           43.4492      8.846      4.912      0.000      26.099      60.800\n",
       "x0_Wednesday         63.6546      9.468      6.723      0.000      45.084      82.225\n",
       "x0_2                 -3.5184     16.124     -0.218      0.827     -35.144      28.107\n",
       "x0_3                 -1.3942     15.501     -0.090      0.928     -31.796      29.007\n",
       "x0_4                 -3.0381     15.584     -0.195      0.845     -33.603      27.527\n",
       "x0_5                 -5.9650     16.089     -0.371      0.711     -37.521      25.591\n",
       "x0_6                  2.3632     15.448      0.153      0.878     -27.936      32.662\n",
       "x0_7                 19.1162     15.148      1.262      0.207     -10.594      48.826\n",
       "x0_8                 37.2361     15.169      2.455      0.014       7.484      66.988\n",
       "x0_9                 40.4226     15.128      2.672      0.008      10.752      70.093\n",
       "x0_10                36.0359     15.332      2.350      0.019       5.966      66.106\n",
       "x0_11                55.4548     15.509      3.576      0.000      25.036      85.874\n",
       "x0_12                88.7903     15.373      5.776      0.000      58.638     118.943\n",
       "x0_13               154.6179     15.344     10.077      0.000     124.523     184.712\n",
       "x0_14               181.2139     15.417     11.754      0.000     150.976     211.452\n",
       "x0_15               215.7955     15.654     13.785      0.000     185.093     246.498\n",
       "==============================================================================\n",
       "Omnibus:                      239.634   Durbin-Watson:                   0.424\n",
       "Prob(Omnibus):                  0.000   Jarque-Bera (JB):              480.559\n",
       "Skew:                           0.826   Prob(JB):                    4.45e-105\n",
       "Kurtosis:                       4.950   Cond. No.                     6.80e+05\n",
       "==============================================================================\n",
       "\n",
       "Warnings:\n",
       "[1] Standard Errors assume that the covariance matrix of the errors is correctly specified.\n",
       "[2] The condition number is large, 6.8e+05. This might indicate that there are\n",
       "strong multicollinearity or other numerical problems.\n",
       "\"\"\""
      ]
     },
     "execution_count": 31,
     "metadata": {},
     "output_type": "execute_result"
    }
   ],
   "source": [
    "sm_result.summary()"
   ]
  },
  {
   "cell_type": "markdown",
   "metadata": {},
   "source": [
    "**Interpretace koeficientů**\n",
    "\n",
    "Hodnota koeficientu TIMESTAMP_SECOND udává, že v případě zvýšení hodnoty o jednu sekundu se zpoždění zvýší o 0,0015 sekundy.\n",
    "\n",
    "U dnů v týdnu se hodnoty koeficientu vztahují k pátku. Model nám tedy např. říká, že v pondělí můžeme počítat se zpožděním vyšším o 78 sekund oproti pátku.\n",
    "\n",
    "Vliv jednotlivých zastávek na zpoždění je porovnáváno oproti první zastávce."
   ]
  },
  {
   "cell_type": "markdown",
   "metadata": {},
   "source": [
    "**R-squared**\n",
    "\n",
    "Číslo popisuje, jak přesná bude predikce hodnot naší regresní rovnice. Čím blíže jsou data k regresní přímce, tím se hodnota R² zvyšuje, nejlepší skóre je 1. Všechny naše závislé proměnné X dohromady vysvětlují 34 % variace zpoždění (Y)."
   ]
  },
  {
   "cell_type": "markdown",
   "metadata": {},
   "source": [
    "#### Model fit"
   ]
  },
  {
   "cell_type": "code",
   "execution_count": 32,
   "metadata": {},
   "outputs": [],
   "source": [
    "model = LinearRegression()"
   ]
  },
  {
   "cell_type": "code",
   "execution_count": 33,
   "metadata": {},
   "outputs": [
    {
     "data": {
      "text/plain": [
       "LinearRegression(copy_X=True, fit_intercept=True, n_jobs=None, normalize=False)"
      ]
     },
     "execution_count": 33,
     "metadata": {},
     "output_type": "execute_result"
    }
   ],
   "source": [
    "model.fit(X.drop(columns=\"const\"), Y)"
   ]
  },
  {
   "cell_type": "code",
   "execution_count": 63,
   "metadata": {},
   "outputs": [
    {
     "data": {
      "text/plain": [
       "Index(['TIMESTAMP_SECONDS', 'x0_Monday', 'x0_Saturday', 'x0_Sunday',\n",
       "       'x0_Thursday', 'x0_Tuesday', 'x0_Wednesday', 'x0_2', 'x0_3', 'x0_4',\n",
       "       'x0_5', 'x0_6', 'x0_7', 'x0_8', 'x0_9', 'x0_10', 'x0_11', 'x0_12',\n",
       "       'x0_13', 'x0_14', 'x0_15'],\n",
       "      dtype='object')"
      ]
     },
     "execution_count": 63,
     "metadata": {},
     "output_type": "execute_result"
    }
   ],
   "source": [
    "X.drop(columns=\"const\").columns"
   ]
  },
  {
   "cell_type": "code",
   "execution_count": 62,
   "metadata": {},
   "outputs": [
    {
     "data": {
      "text/plain": [
       "array([ 1.46687841e-03,  7.78023104e+01, -2.06714953e+01, -1.48864314e+01,\n",
       "        3.94029860e+01,  4.34491713e+01,  6.36545799e+01, -3.51844295e+00,\n",
       "       -1.39423288e+00, -3.03810664e+00, -5.96497739e+00,  2.36324696e+00,\n",
       "        1.91161995e+01,  3.72361146e+01,  4.04225880e+01,  3.60359492e+01,\n",
       "        5.54548495e+01,  8.87902574e+01,  1.54617943e+02,  1.81213895e+02,\n",
       "        2.15795487e+02])"
      ]
     },
     "execution_count": 62,
     "metadata": {},
     "output_type": "execute_result"
    }
   ],
   "source": [
    "model.coef_"
   ]
  },
  {
   "cell_type": "markdown",
   "metadata": {},
   "source": [
    "Koeficienty nám udávají, jakou váhu mají jednotlivé nezávislé proměnné."
   ]
  },
  {
   "cell_type": "markdown",
   "metadata": {},
   "source": [
    "#### Predikce"
   ]
  },
  {
   "cell_type": "code",
   "execution_count": 49,
   "metadata": {},
   "outputs": [],
   "source": [
    "data_for_prediction = pd.DataFrame({\n",
    "    \"DAY_OF_WEEK\": [\"Tuesday\"],\n",
    "    \"SEQUENCE\": [13],\n",
    "    \"TIMESTAMP_SECONDS\": [28216],\n",
    "})"
   ]
  },
  {
   "cell_type": "code",
   "execution_count": 50,
   "metadata": {},
   "outputs": [],
   "source": [
    "A_dummies_tmp = one_hot_dow.transform(data_for_prediction[\"DAY_OF_WEEK\"].to_numpy().reshape(-1, 1))\n",
    "A_dummies = pd.DataFrame(A_dummies_tmp, columns=one_hot_dow.get_feature_names()).dropna()\n",
    "\n",
    "B_dummies_tmp = one_hot_seq.transform(data_for_prediction[\"SEQUENCE\"].to_numpy().reshape(-1, 1))\n",
    "B_dummies = pd.DataFrame(B_dummies_tmp, columns=one_hot_seq.get_feature_names()).dropna()"
   ]
  },
  {
   "cell_type": "code",
   "execution_count": 51,
   "metadata": {},
   "outputs": [],
   "source": [
    "merged = pd.concat([\n",
    "    data_for_prediction.reset_index(drop=True),\n",
    "    A_dummies.reset_index(drop=True),\n",
    "    B_dummies.reset_index(drop=True),\n",
    "],axis='columns')\n",
    "\n",
    "final = merged.drop(['DAY_OF_WEEK','SEQUENCE'],axis='columns')"
   ]
  },
  {
   "cell_type": "code",
   "execution_count": 52,
   "metadata": {
    "scrolled": true
   },
   "outputs": [
    {
     "data": {
      "text/html": [
       "<div>\n",
       "<style scoped>\n",
       "    .dataframe tbody tr th:only-of-type {\n",
       "        vertical-align: middle;\n",
       "    }\n",
       "\n",
       "    .dataframe tbody tr th {\n",
       "        vertical-align: top;\n",
       "    }\n",
       "\n",
       "    .dataframe thead th {\n",
       "        text-align: right;\n",
       "    }\n",
       "</style>\n",
       "<table border=\"1\" class=\"dataframe\">\n",
       "  <thead>\n",
       "    <tr style=\"text-align: right;\">\n",
       "      <th></th>\n",
       "      <th>TIMESTAMP_SECONDS</th>\n",
       "      <th>x0_Monday</th>\n",
       "      <th>x0_Saturday</th>\n",
       "      <th>x0_Sunday</th>\n",
       "      <th>x0_Thursday</th>\n",
       "      <th>x0_Tuesday</th>\n",
       "      <th>x0_Wednesday</th>\n",
       "      <th>x0_2</th>\n",
       "      <th>x0_3</th>\n",
       "      <th>x0_4</th>\n",
       "      <th>...</th>\n",
       "      <th>x0_6</th>\n",
       "      <th>x0_7</th>\n",
       "      <th>x0_8</th>\n",
       "      <th>x0_9</th>\n",
       "      <th>x0_10</th>\n",
       "      <th>x0_11</th>\n",
       "      <th>x0_12</th>\n",
       "      <th>x0_13</th>\n",
       "      <th>x0_14</th>\n",
       "      <th>x0_15</th>\n",
       "    </tr>\n",
       "  </thead>\n",
       "  <tbody>\n",
       "    <tr>\n",
       "      <th>0</th>\n",
       "      <td>28216</td>\n",
       "      <td>0.0</td>\n",
       "      <td>0.0</td>\n",
       "      <td>0.0</td>\n",
       "      <td>0.0</td>\n",
       "      <td>1.0</td>\n",
       "      <td>0.0</td>\n",
       "      <td>0.0</td>\n",
       "      <td>0.0</td>\n",
       "      <td>0.0</td>\n",
       "      <td>...</td>\n",
       "      <td>0.0</td>\n",
       "      <td>0.0</td>\n",
       "      <td>0.0</td>\n",
       "      <td>0.0</td>\n",
       "      <td>0.0</td>\n",
       "      <td>0.0</td>\n",
       "      <td>0.0</td>\n",
       "      <td>1.0</td>\n",
       "      <td>0.0</td>\n",
       "      <td>0.0</td>\n",
       "    </tr>\n",
       "  </tbody>\n",
       "</table>\n",
       "<p>1 rows × 21 columns</p>\n",
       "</div>"
      ],
      "text/plain": [
       "   TIMESTAMP_SECONDS  x0_Monday  x0_Saturday  x0_Sunday  x0_Thursday  \\\n",
       "0              28216        0.0          0.0        0.0          0.0   \n",
       "\n",
       "   x0_Tuesday  x0_Wednesday  x0_2  x0_3  x0_4  ...  x0_6  x0_7  x0_8  x0_9  \\\n",
       "0         1.0           0.0   0.0   0.0   0.0  ...   0.0   0.0   0.0   0.0   \n",
       "\n",
       "   x0_10  x0_11  x0_12  x0_13  x0_14  x0_15  \n",
       "0    0.0    0.0    0.0    1.0    0.0    0.0  \n",
       "\n",
       "[1 rows x 21 columns]"
      ]
     },
     "execution_count": 52,
     "metadata": {},
     "output_type": "execute_result"
    }
   ],
   "source": [
    "final"
   ]
  },
  {
   "cell_type": "code",
   "execution_count": 53,
   "metadata": {},
   "outputs": [
    {
     "data": {
      "text/plain": [
       "array([244.24386355])"
      ]
     },
     "execution_count": 53,
     "metadata": {},
     "output_type": "execute_result"
    }
   ],
   "source": [
    "model.predict(final)"
   ]
  },
  {
   "cell_type": "markdown",
   "metadata": {},
   "source": [
    "**Check**"
   ]
  },
  {
   "cell_type": "code",
   "execution_count": 58,
   "metadata": {},
   "outputs": [
    {
     "data": {
      "text/html": [
       "<div>\n",
       "<style scoped>\n",
       "    .dataframe tbody tr th:only-of-type {\n",
       "        vertical-align: middle;\n",
       "    }\n",
       "\n",
       "    .dataframe tbody tr th {\n",
       "        vertical-align: top;\n",
       "    }\n",
       "\n",
       "    .dataframe thead th {\n",
       "        text-align: right;\n",
       "    }\n",
       "</style>\n",
       "<table border=\"1\" class=\"dataframe\">\n",
       "  <thead>\n",
       "    <tr style=\"text-align: right;\">\n",
       "      <th></th>\n",
       "      <th>DAY_OF_WEEK</th>\n",
       "      <th>DELAY</th>\n",
       "      <th>SEQUENCE</th>\n",
       "      <th>TIMESTAMP_SECONDS</th>\n",
       "    </tr>\n",
       "  </thead>\n",
       "  <tbody>\n",
       "    <tr>\n",
       "      <th>5517</th>\n",
       "      <td>Tuesday</td>\n",
       "      <td>198.0</td>\n",
       "      <td>13</td>\n",
       "      <td>28216</td>\n",
       "    </tr>\n",
       "  </tbody>\n",
       "</table>\n",
       "</div>"
      ],
      "text/plain": [
       "     DAY_OF_WEEK  DELAY  SEQUENCE  TIMESTAMP_SECONDS\n",
       "5517     Tuesday  198.0        13              28216"
      ]
     },
     "execution_count": 58,
     "metadata": {},
     "output_type": "execute_result"
    }
   ],
   "source": [
    "tuesday = data_for_regression[data_for_regression['DAY_OF_WEEK'] =='Tuesday' ]\n",
    "real = tuesday[tuesday['SEQUENCE'] == 13]\n",
    "real = real[real['TIMESTAMP_SECONDS'] == 28216]\n",
    "real"
   ]
  },
  {
   "cell_type": "markdown",
   "metadata": {},
   "source": [
    "**Comparison of predicted values and real data**"
   ]
  },
  {
   "cell_type": "code",
   "execution_count": 41,
   "metadata": {},
   "outputs": [],
   "source": [
    "predictions = model.predict(X.drop(columns = \"const\"))\n",
    "\n",
    "\n",
    "df = pd.DataFrame(data = predictions)\n",
    "df.columns = ['PREDICTED_DELAY']"
   ]
  },
  {
   "cell_type": "code",
   "execution_count": 42,
   "metadata": {},
   "outputs": [
    {
     "data": {
      "text/html": [
       "<div>\n",
       "<style scoped>\n",
       "    .dataframe tbody tr th:only-of-type {\n",
       "        vertical-align: middle;\n",
       "    }\n",
       "\n",
       "    .dataframe tbody tr th {\n",
       "        vertical-align: top;\n",
       "    }\n",
       "\n",
       "    .dataframe thead th {\n",
       "        text-align: right;\n",
       "    }\n",
       "</style>\n",
       "<table border=\"1\" class=\"dataframe\">\n",
       "  <thead>\n",
       "    <tr style=\"text-align: right;\">\n",
       "      <th></th>\n",
       "      <th>DAY_OF_WEEK</th>\n",
       "      <th>DELAY</th>\n",
       "      <th>SEQUENCE</th>\n",
       "      <th>TIMESTAMP_SECONDS</th>\n",
       "      <th>PREDICTED_DELAY</th>\n",
       "    </tr>\n",
       "  </thead>\n",
       "  <tbody>\n",
       "    <tr>\n",
       "      <th>0</th>\n",
       "      <td>Tuesday</td>\n",
       "      <td>66.0</td>\n",
       "      <td>1</td>\n",
       "      <td>29591</td>\n",
       "      <td>91.642878</td>\n",
       "    </tr>\n",
       "    <tr>\n",
       "      <th>1</th>\n",
       "      <td>Tuesday</td>\n",
       "      <td>16.0</td>\n",
       "      <td>2</td>\n",
       "      <td>29656</td>\n",
       "      <td>88.219782</td>\n",
       "    </tr>\n",
       "    <tr>\n",
       "      <th>2</th>\n",
       "      <td>Tuesday</td>\n",
       "      <td>16.0</td>\n",
       "      <td>3</td>\n",
       "      <td>29891</td>\n",
       "      <td>90.688709</td>\n",
       "    </tr>\n",
       "    <tr>\n",
       "      <th>3</th>\n",
       "      <td>Tuesday</td>\n",
       "      <td>7.0</td>\n",
       "      <td>4</td>\n",
       "      <td>29942</td>\n",
       "      <td>89.119646</td>\n",
       "    </tr>\n",
       "    <tr>\n",
       "      <th>4</th>\n",
       "      <td>Tuesday</td>\n",
       "      <td>19.0</td>\n",
       "      <td>5</td>\n",
       "      <td>30009</td>\n",
       "      <td>86.291056</td>\n",
       "    </tr>\n",
       "    <tr>\n",
       "      <th>...</th>\n",
       "      <td>...</td>\n",
       "      <td>...</td>\n",
       "      <td>...</td>\n",
       "      <td>...</td>\n",
       "      <td>...</td>\n",
       "    </tr>\n",
       "    <tr>\n",
       "      <th>1761</th>\n",
       "      <td>Saturday</td>\n",
       "      <td>121.0</td>\n",
       "      <td>9</td>\n",
       "      <td>33240</td>\n",
       "      <td>73.297439</td>\n",
       "    </tr>\n",
       "    <tr>\n",
       "      <th>1762</th>\n",
       "      <td>Saturday</td>\n",
       "      <td>117.0</td>\n",
       "      <td>10</td>\n",
       "      <td>33302</td>\n",
       "      <td>69.001746</td>\n",
       "    </tr>\n",
       "    <tr>\n",
       "      <th>1763</th>\n",
       "      <td>Saturday</td>\n",
       "      <td>88.0</td>\n",
       "      <td>11</td>\n",
       "      <td>33383</td>\n",
       "      <td>88.539464</td>\n",
       "    </tr>\n",
       "    <tr>\n",
       "      <th>1764</th>\n",
       "      <td>Saturday</td>\n",
       "      <td>110.0</td>\n",
       "      <td>12</td>\n",
       "      <td>33473</td>\n",
       "      <td>122.006891</td>\n",
       "    </tr>\n",
       "    <tr>\n",
       "      <th>1765</th>\n",
       "      <td>Saturday</td>\n",
       "      <td>86.0</td>\n",
       "      <td>13</td>\n",
       "      <td>33501</td>\n",
       "      <td>187.875649</td>\n",
       "    </tr>\n",
       "  </tbody>\n",
       "</table>\n",
       "<p>1766 rows × 5 columns</p>\n",
       "</div>"
      ],
      "text/plain": [
       "     DAY_OF_WEEK  DELAY  SEQUENCE  TIMESTAMP_SECONDS  PREDICTED_DELAY\n",
       "0        Tuesday   66.0         1              29591        91.642878\n",
       "1        Tuesday   16.0         2              29656        88.219782\n",
       "2        Tuesday   16.0         3              29891        90.688709\n",
       "3        Tuesday    7.0         4              29942        89.119646\n",
       "4        Tuesday   19.0         5              30009        86.291056\n",
       "...          ...    ...       ...                ...              ...\n",
       "1761    Saturday  121.0         9              33240        73.297439\n",
       "1762    Saturday  117.0        10              33302        69.001746\n",
       "1763    Saturday   88.0        11              33383        88.539464\n",
       "1764    Saturday  110.0        12              33473       122.006891\n",
       "1765    Saturday   86.0        13              33501       187.875649\n",
       "\n",
       "[1766 rows x 5 columns]"
      ]
     },
     "execution_count": 42,
     "metadata": {},
     "output_type": "execute_result"
    }
   ],
   "source": [
    "df_predict = pd.concat([\n",
    "    data_for_regression.reset_index(drop=True),\n",
    "   df],axis = 'columns')\n",
    "df_predict"
   ]
  },
  {
   "cell_type": "code",
   "execution_count": 43,
   "metadata": {},
   "outputs": [],
   "source": [
    "see = df_predict[['DELAY','PREDICTED_DELAY']]"
   ]
  },
  {
   "cell_type": "code",
   "execution_count": 64,
   "metadata": {},
   "outputs": [
    {
     "data": {
      "image/png": "[encoded data removed]",
      "text/plain": [
       "<Figure size 1152x720 with 1 Axes>"
      ]
     },
     "metadata": {},
     "output_type": "display_data"
    }
   ],
   "source": [
    "df1 = see.head(50)\n",
    "df1.plot(kind='bar',figsize=(16,10), color=['#000080','#74CDDC'])\n",
    "plt.grid(which='major', linestyle='-', linewidth='0.5', color='white')\n",
    "plt.grid(which='minor', linestyle=':', linewidth='0.5', color='black')\n",
    "plt.show()"
   ]
  },
  {
   "cell_type": "code",
   "execution_count": null,
   "metadata": {},
   "outputs": [],
   "source": []
  }
 ],
 "metadata": {
  "_draft": {
   "nbviewer_url": "https://gist.github.com/c23dc404027156bc26654acb377a2b43"
  },
  "gist": {
   "data": {
    "description": "Desktop/DA_DATA_2020/DATA_git/da_projekt_gol/06_linear_regression_prediction.ipynb",
    "public": true
   },
   "id": "c23dc404027156bc26654acb377a2b43"
  },
  "kernelspec": {
   "display_name": "Python 3",
   "language": "python",
   "name": "python3"
  },
  "language_info": {
   "codemirror_mode": {
    "name": "ipython",
    "version": 3
   },
   "file_extension": ".py",
   "mimetype": "text/x-python",
   "name": "python",
   "nbconvert_exporter": "python",
   "pygments_lexer": "ipython3",
   "version": "3.7.6"
  }
 },
 "nbformat": 4,
 "nbformat_minor": 4
}