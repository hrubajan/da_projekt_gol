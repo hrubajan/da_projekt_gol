{
 "cells": [
  {
   "cell_type": "markdown",
   "metadata": {},
   "source": [
    "# **Keboola script to get the data from APIs to .csv**"
   ]
  },
  {
   "cell_type": "code",
   "execution_count": 20,
   "metadata": {},
   "outputs": [],
   "source": [
    "from pprint import pprint\n",
    "import pandas as pd\n",
    "#from pandas.io.json import json_normalize -- keboola, sandbox\n",
    "import json\n",
    "import requests\n",
    "import csv\n",
    "import os"
   ]
  },
  {
   "cell_type": "code",
   "execution_count": 21,
   "metadata": {},
   "outputs": [],
   "source": [
    "trip_id = ['331_241_200302', '331_260_200302', '331_256_200302', '331_242_200302', '331_257_200302', '331_243_200302', \n",
    "           '332_691_200316', '332_680_200316', '332_415_190902', '332_116_200316', '332_696_200316', '332_422_200316', \n",
    "           '332_59_190831', '332_102_200316', '332_692_200316', '332_412_190902', '332_108_200316', '332_33_190831', \n",
    "           '332_88_200316', '333_1119_200302', '333_557_200302', '333_1064_200302', '333_1051_200302', '333_1115_200302', \n",
    "           '333_1093_200302', '333_1012_200302', '333_558_200302', '333_1052_200302', '333_1071_200302', '333_1094_200302', \n",
    "           '333_602_200302', '333_715_200302', '333_751_200302', '333_517_200302', '333_560_200302', '333_1072_200302', \n",
    "           '333_677_200302', '333_604_200302', '335_351_191111', '335_360_200316', '335_358_191111', '335_339_191111', \n",
    "           '335_355_200316','332_27_200316', '332_698_200316', '332_417_191101', '332_682_200316', '332_687_200316', \n",
    "           '332_694_200316', '332_19_200316', '332_428_191101', '332_673_200316', '332_688_200316', '332_683_200316', \n",
    "           '332_702_200316', '335_21_200316', '335_29_191111', '335_347_200316', '335_11_200316', '335_349_191111', \n",
    "           '335_345_200316', '335_42_200316', '335_353_191111', '331_252_200302', '331_258_200302', '331_248_200302', \n",
    "           '331_255_200302', '331_262_200302', '333_1110_200302', '333_1117_200302', '333_1078_200302', '333_1068_200302', \n",
    "           '333_1087_200302', '333_1100_200302', '333_1057_200302', '333_1111_200302', '333_1069_200302', '333_1079_200302', \n",
    "           '333_1058_200302', '333_1101_200302']\n",
    "#print(len(trip_id))"
   ]
  },
  {
   "cell_type": "code",
   "execution_count": 22,
   "metadata": {},
   "outputs": [],
   "source": [
    "file_key = open('api_key.txt', encoding='utf-8')"
   ]
  },
  {
   "cell_type": "code",
   "execution_count": 23,
   "metadata": {},
   "outputs": [],
   "source": [
    "key = [key.strip() for key in file_key]"
   ]
  },
  {
   "cell_type": "code",
   "execution_count": 24,
   "metadata": {},
   "outputs": [],
   "source": [
    "for tripid in trip_id:\n",
    "    api_key = key[0]\n",
    "    headers = {\n",
    "    'Content-Type': 'application/json; charset=utf-8',\n",
    "    'x-access-token': api_key\n",
    "  }\n",
    "    response1 = requests.get(f'https://api.golemio.cz/v2/vehiclepositions/{tripid}?includePositions=true', headers = headers)\n",
    "    #print(response1)"
   ]
  },
  {
   "cell_type": "code",
   "execution_count": 26,
   "metadata": {
    "scrolled": false
   },
   "outputs": [],
   "source": [
    "if response1.status_code == 200:\n",
    "    trip_id_info_all = json.loads(response1.text) \n",
    "    \n",
    "    coordinates = [ trip_id_info_all['properties']['all_positions']['features'][x]['geometry']['coordinates'] for x in range(len(trip_id_info_all['properties']['all_positions']['features']))]\n",
    "    longitude = [gps[0] for gps in coordinates]\n",
    "    latitude = [gps[1] for gps in coordinates]\n",
    "    \n",
    "    final = json_normalize(trip_id_info_all['properties']['all_positions']['features'])\n",
    "    \n",
    "    final['trip_id'] = tripid\n",
    "    final['latitude'] = latitude\n",
    "    final['longitude'] = longitude\n",
    "    \n",
    "    newCols = ['type',\n",
    "               'geometry_coordinates',\n",
    "               'geometry_type',\n",
    "               'properties_bearing',\n",
    "               'properties_delay_actual',\n",
    "               'properties_delay_last_stop_arrival',\n",
    "               'properties_delay_last_stop_departure',\n",
    "               'properties_is_canceled',\n",
    "               'properties_last_stop_arrival_time',\n",
    "               'properties_last_stop_departure_time',\n",
    "               'properties_last_stop_id',\n",
    "               'properties_last_stop_sequence',\n",
    "               'properties_next_stop_arrival_time',\n",
    "               'properties_next_stop_departure_time',\n",
    "               'properties_next_stop_id',\n",
    "               'properties_next_stop_sequence',\n",
    "               'properties_origin_timestamp',\n",
    "               'properties_shape_dist_traveled',\n",
    "               'properties_speed',\n",
    "               'trip_id',\n",
    "               'latitude',\n",
    "               'longitude']\n",
    "    final.columns = newCols  \n",
    "    if not os.path.isfile('/data/out/tables/all_positions.csv'): \n",
    "        final.to_csv('/data/out/tables/all_positions.csv', mode = 'a', sep=',', encoding=\"utf-8\", index=False)\n",
    "    else:\n",
    "        final.to_csv('/data/out/tables/all_positions.csv', mode = 'a', sep=',', encoding=\"utf-8\", index=False, header=False)\n",
    "else:\n",
    "    final = pd.DataFrame(columns=['type',\n",
    "           'geometry_coordinates',\n",
    "           'geometry_type',\n",
    "           'properties_bearing',\n",
    "           'properties_delay_actual',\n",
    "           'properties_delay_last_stop_arrival',\n",
    "           'properties_delay_last_stop_departure',\n",
    "           'properties_is_canceled',\n",
    "           'properties_last_stop_arrival_time',\n",
    "           'properties_last_stop_departure_time',\n",
    "           'properties_last_stop_id',\n",
    "           'properties_last_stop_sequence',\n",
    "           'properties_next_stop_arrival_time',\n",
    "           'properties_next_stop_departure_time',\n",
    "           'properties_next_stop_id',\n",
    "           'properties_next_stop_sequence',\n",
    "           'properties_origin_timestamp',\n",
    "           'properties_shape_dist_traveled',\n",
    "           'properties_speed',\n",
    "           'trip_id',\n",
    "           'latitude',\n",
    "           'longitude'])\n",
    "    #keboola -> /data/out/tables/all_positions.csv \n",
    "    if not os.path.isfile('all_positions.csv'): \n",
    "        final.to_csv('all_positions.csv', mode = 'a', sep=',', encoding=\"utf-8\", index=False)\n",
    "    else:\n",
    "        final.to_csv('all_positions.csv', mode = 'a', sep=',', encoding=\"utf-8\", index=False, header=False)"
   ]
  },
  {
   "cell_type": "code",
   "execution_count": null,
   "metadata": {},
   "outputs": [],
   "source": []
  }
 ],
 "metadata": {
  "kernelspec": {
   "display_name": "Python 3",
   "language": "python",
   "name": "python3"
  },
  "language_info": {
   "codemirror_mode": {
    "name": "ipython",
    "version": 3
   },
   "file_extension": ".py",
   "mimetype": "text/x-python",
   "name": "python",
   "nbconvert_exporter": "python",
   "pygments_lexer": "ipython3",
   "version": "3.7.6"
  }
 },
 "nbformat": 4,
 "nbformat_minor": 4
}
